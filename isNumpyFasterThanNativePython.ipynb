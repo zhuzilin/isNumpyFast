{
 "cells": [
  {
   "cell_type": "code",
   "execution_count": 1,
   "metadata": {
    "collapsed": true
   },
   "outputs": [],
   "source": [
    "import numpy as np\n",
    "import timeit\n",
    "import random"
   ]
  },
  {
   "cell_type": "markdown",
   "metadata": {},
   "source": [
    "## Append"
   ]
  },
  {
   "cell_type": "code",
   "execution_count": 2,
   "metadata": {
    "collapsed": false
   },
   "outputs": [
    {
     "data": {
      "text/plain": [
       "[1.0130279131015405, 1.0315620112253385, 1.0039049095448926]"
      ]
     },
     "execution_count": 2,
     "metadata": {},
     "output_type": "execute_result"
    }
   ],
   "source": [
    "def np_append(times):\n",
    "    a = np.array([])\n",
    "    for i in range(times):\n",
    "        np.append(a, [i])\n",
    "        \n",
    "t = timeit.Timer(lambda: np_append(10000))\n",
    "t.repeat(number=10)"
   ]
  },
  {
   "cell_type": "code",
   "execution_count": 4,
   "metadata": {
    "collapsed": false
   },
   "outputs": [
    {
     "data": {
      "text/plain": [
       "[0.021315817399894854, 0.024441057855604242, 0.024243405542069496]"
      ]
     },
     "execution_count": 4,
     "metadata": {},
     "output_type": "execute_result"
    }
   ],
   "source": [
    "def native_append(times):\n",
    "    a = np.array([])\n",
    "    b = []\n",
    "    for i in range(times):\n",
    "        b += [i]\n",
    "    a = np.array(b)\n",
    "    \n",
    "t = timeit.Timer(lambda: native_append(10000))\n",
    "t.repeat(number=10)"
   ]
  },
  {
   "cell_type": "code",
   "execution_count": 5,
   "metadata": {
    "collapsed": false
   },
   "outputs": [
    {
     "data": {
      "text/plain": [
       "[0.016023694938603228, 0.01809539750907163, 0.014321405271484622]"
      ]
     },
     "execution_count": 5,
     "metadata": {},
     "output_type": "execute_result"
    }
   ],
   "source": [
    "def native_append2(times):\n",
    "    a = np.array([])\n",
    "    b = list(a)\n",
    "    for i in range(times):\n",
    "        b.append(i)\n",
    "    a = np.array(b)\n",
    "    \n",
    "t = timeit.Timer(lambda: native_append2(10000))\n",
    "t.repeat(number=10)"
   ]
  },
  {
   "cell_type": "markdown",
   "metadata": {},
   "source": [
    "## Insert"
   ]
  },
  {
   "cell_type": "code",
   "execution_count": 6,
   "metadata": {
    "collapsed": false
   },
   "outputs": [
    {
     "data": {
      "text/plain": [
       "[0.3112425875824023, 0.33956521596432765, 0.3414027990047366]"
      ]
     },
     "execution_count": 6,
     "metadata": {},
     "output_type": "execute_result"
    }
   ],
   "source": [
    "def np_insert(times):\n",
    "    a = np.array([])\n",
    "    for i in range(times):\n",
    "        np.insert(a, 0, i)\n",
    "        \n",
    "t = timeit.Timer(lambda: np_insert(1000))\n",
    "t.repeat(number=10)"
   ]
  },
  {
   "cell_type": "code",
   "execution_count": 7,
   "metadata": {
    "collapsed": false
   },
   "outputs": [
    {
     "data": {
      "text/plain": [
       "[0.007104543122299134, 0.010165965949102684, 0.006591084713708284]"
      ]
     },
     "execution_count": 7,
     "metadata": {},
     "output_type": "execute_result"
    }
   ],
   "source": [
    "def native_insert(times):\n",
    "    a = np.array([])\n",
    "    b = list(a)\n",
    "    for i in range(times):\n",
    "        b.insert(0, i)\n",
    "    a = np.array(b)\n",
    "    \n",
    "t = timeit.Timer(lambda: native_insert(1000))\n",
    "t.repeat(number=10)"
   ]
  },
  {
   "cell_type": "markdown",
   "metadata": {},
   "source": [
    "## Shuffle"
   ]
  },
  {
   "cell_type": "code",
   "execution_count": 8,
   "metadata": {
    "collapsed": false
   },
   "outputs": [
    {
     "data": {
      "text/plain": [
       "[0.029401693318732214, 0.039052012826246596, 0.048410229929448434]"
      ]
     },
     "execution_count": 8,
     "metadata": {},
     "output_type": "execute_result"
    }
   ],
   "source": [
    "def np_shuffle(length):\n",
    "    a = np.arange(length)\n",
    "    np.random.shuffle(a)\n",
    "        \n",
    "t = timeit.Timer(lambda: np_shuffle(100000))\n",
    "t.repeat(number=10)"
   ]
  },
  {
   "cell_type": "code",
   "execution_count": 9,
   "metadata": {
    "collapsed": false
   },
   "outputs": [
    {
     "data": {
      "text/plain": [
       "[0.028339767973687202, 0.03596433360355533, 0.04827967729430682]"
      ]
     },
     "execution_count": 9,
     "metadata": {},
     "output_type": "execute_result"
    }
   ],
   "source": [
    "def native_shuffle(length):\n",
    "    a = np.arange(length)\n",
    "    b = list(a)\n",
    "    random.shuffle(b)\n",
    "    a = np.array(b)\n",
    "        \n",
    "t = timeit.Timer(lambda: np_shuffle(100000))\n",
    "t.repeat(number=10)"
   ]
  },
  {
   "cell_type": "code",
   "execution_count": null,
   "metadata": {
    "collapsed": true
   },
   "outputs": [],
   "source": []
  }
 ],
 "metadata": {
  "anaconda-cloud": {},
  "kernelspec": {
   "display_name": "Python [conda root]",
   "language": "python",
   "name": "conda-root-py"
  },
  "language_info": {
   "codemirror_mode": {
    "name": "ipython",
    "version": 3
   },
   "file_extension": ".py",
   "mimetype": "text/x-python",
   "name": "python",
   "nbconvert_exporter": "python",
   "pygments_lexer": "ipython3",
   "version": "3.5.2"
  }
 },
 "nbformat": 4,
 "nbformat_minor": 1
}
